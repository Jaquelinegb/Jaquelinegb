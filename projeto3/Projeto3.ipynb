{
 "cells": [
  {
   "cell_type": "markdown",
   "metadata": {},
   "source": [
    "# Requisitos\n",
    "Escreva um programda em Python que colete dados de notícias políticas na\n",
    "página G1 e os salve em um arquivo no formato html.\n",
    "\n",
    "Coloque o código e o arquivo no seu GitHub.\n",
    "Dica: Use o pacote Requests"
   ]
  },
  {
   "cell_type": "code",
   "execution_count": 3,
   "metadata": {},
   "outputs": [],
   "source": [
    "# Importando o pacote requests\n",
    "\n",
    "import requests"
   ]
  },
  {
   "cell_type": "code",
   "execution_count": 4,
   "metadata": {},
   "outputs": [
    {
     "data": {
      "text/plain": [
       "200"
      ]
     },
     "execution_count": 4,
     "metadata": {},
     "output_type": "execute_result"
    }
   ],
   "source": [
    "# Lendo a página de política do G1\n",
    "endereco = \"https://g1.globo.com/politica/\"\n",
    "\n",
    "pagina = requests.get(endereco)\n",
    "pagina.status_code"
   ]
  },
  {
   "cell_type": "code",
   "execution_count": 11,
   "metadata": {},
   "outputs": [
    {
     "data": {
      "text/plain": [
       "200"
      ]
     },
     "execution_count": 11,
     "metadata": {},
     "output_type": "execute_result"
    }
   ],
   "source": [
    "def page_reader(endereco:str) -> requests.models.Response:\n",
    "    pagina = requests.get(endereco)\n",
    "    return pagina\n",
    "\n",
    "pagina_politica_g1 = page_reader(\"https://g1.globo.com/politica/\")\n",
    "pagina_politica_g1.status_code"
   ]
  },
  {
   "cell_type": "code",
   "execution_count": 5,
   "metadata": {},
   "outputs": [
    {
     "data": {
      "text/plain": [
       "requests.models.Response"
      ]
     },
     "execution_count": 5,
     "metadata": {},
     "output_type": "execute_result"
    }
   ],
   "source": [
    "type(pagina)"
   ]
  },
  {
   "cell_type": "code",
   "execution_count": 12,
   "metadata": {},
   "outputs": [],
   "source": [
    "# Gravando o arquivo com as informações da variável página\n",
    "arquivo = open('pagina.html', 'wb')\n",
    "for texto in pagina.iter_content():\n",
    "    arquivo.write(texto)\n",
    "arquivo.close()"
   ]
  },
  {
   "cell_type": "code",
   "execution_count": 13,
   "metadata": {},
   "outputs": [],
   "source": [
    "def grava_pagina_web(resposta: requests.models.Response) -> None:\n",
    "    arquivo = open('politica.html', 'wb')\n",
    "    for texto in pagina.iter_content():\n",
    "        arquivo.write(texto)\n",
    "    arquivo.close()\n",
    "        \n",
    "grava_pagina_web(pagina_politica_g1)"
   ]
  },
  {
   "cell_type": "code",
   "execution_count": null,
   "metadata": {},
   "outputs": [],
   "source": []
  }
 ],
 "metadata": {
  "kernelspec": {
   "display_name": "Python 3",
   "language": "python",
   "name": "python3"
  },
  "language_info": {
   "codemirror_mode": {
    "name": "ipython",
    "version": 3
   },
   "file_extension": ".py",
   "mimetype": "text/x-python",
   "name": "python",
   "nbconvert_exporter": "python",
   "pygments_lexer": "ipython3",
   "version": "3.7.0"
  }
 },
 "nbformat": 4,
 "nbformat_minor": 2
}
